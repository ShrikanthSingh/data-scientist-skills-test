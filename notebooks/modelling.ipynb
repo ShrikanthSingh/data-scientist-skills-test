{
 "cells": [
  {
   "cell_type": "code",
   "execution_count": 44,
   "metadata": {},
   "outputs": [],
   "source": [
    "import datetime\n",
    "import lightgbm\n",
    "import numpy as np\n",
    "import pandas as pd\n",
    "from joblib import dump\n",
    "import matplotlib.pyplot as plt\n",
    "from sklearn.pipeline import Pipeline\n",
    "from sklearn.metrics import r2_score\n",
    "from sklearn.compose import ColumnTransformer\n",
    "from sklearn.metrics import mean_squared_error\n",
    "from sklearn.metrics import mean_absolute_error\n",
    "from category_encoders import OrdinalEncoder, OneHotEncoder\n",
    "from sklearn.feature_extraction.text import TfidfVectorizer"
   ]
  },
  {
   "cell_type": "markdown",
   "metadata": {},
   "source": [
    "##### Defining features with respect to their types\n",
    "\n",
    "* From our EDA phase we found that the feature *unit_discount_weekly* has negligible correlation with the sales of the product. So we will drop it from our list of features.\n",
    "* We will drop the duplicate columns of *hierarchy_level2_id* and *hierarchy_level3_desc*."
   ]
  },
  {
   "cell_type": "code",
   "execution_count": 2,
   "metadata": {},
   "outputs": [],
   "source": [
    "CATEGORICAL_FEATURES = [\n",
    "    \"hierarchy_level2_desc\",\n",
    "    \"hierarchy_level3_desc\", \n",
    "]\n",
    "NUMERICAL_FEATURES = [\n",
    "    \"store_count\",\n",
    "    \"total_cust_count\",\n",
    "    \"unit_price_weekly\",\n",
    "    #\"unit_discount_weekly\"\n",
    "]\n",
    "TEXT_FEATURES = \"art_name\"\n",
    "\n",
    "FLAG_FEATURES = [\n",
    "    \"low_stock_warning\"\n",
    "]\n",
    "\n",
    "TARGET = \"sold_qty_units\"\n"
   ]
  },
  {
   "cell_type": "code",
   "execution_count": 3,
   "metadata": {},
   "outputs": [],
   "source": [
    "def rmse(y_true, y_pred):\n",
    "    return np.sqrt(mean_squared_error(y_true, y_pred))"
   ]
  },
  {
   "cell_type": "markdown",
   "metadata": {},
   "source": [
    "##### Inverse Distance Weighting\n",
    "* *sample_weight* to the lightgbm model helps to add more importance to the most recent obsevations. \n",
    "* Rasing weight to the positive power helps to increase importance of the most recent data."
   ]
  },
  {
   "cell_type": "code",
   "execution_count": 4,
   "metadata": {},
   "outputs": [],
   "source": [
    "def estimate_sample_weights(df, n):\n",
    "    return ((df.date_of_day - df.date_of_day.min()).dt.days + 1) ** n"
   ]
  },
  {
   "cell_type": "markdown",
   "metadata": {},
   "source": [
    "##### Pipeline Definition\n",
    "* OneHotEncoder() - Encodes the *low_stock_warning* as it is a boolean datatype.\n",
    "* OrdinalEncoder() - Product subcategories *hierarchy_level2_desc* and *hierarchy_level3_desc* \n",
    "* We will pass through the numerical features without any transformation as at each tree level, the score of a possible split will be equal irrespective of the feature being scaled or not.\n",
    "* TfidfVectorizer() - Reason for encoding the *art_name* using tfidf:\n",
    "  > https://www.shopify.com/blog/8211159-9-simple-ways-to-write-product-descriptions-that-sell\n",
    "  \n",
    "     A product description can’t really make an impact on sales, right? \n",
    "Wrong. In fact, evidence from an ecommerce study conducted by Nielsen Norman Group shows that 20% of unsuccessful purchases are due to lack of product information. \n",
    "\n",
    "##### Model - LightGBM"
   ]
  },
  {
   "cell_type": "code",
   "execution_count": 39,
   "metadata": {},
   "outputs": [],
   "source": [
    "model = Pipeline([\n",
    "    (\"feature_preprocessor\", ColumnTransformer([\n",
    "        \n",
    "        (\"one_hot\", OneHotEncoder(), FLAG_FEATURES),\n",
    "\n",
    "        (\"categorical\", OrdinalEncoder(handle_missing=\"return_nan\"), CATEGORICAL_FEATURES),\n",
    "\n",
    "        (\"numerical\", \"passthrough\", NUMERICAL_FEATURES),\n",
    "\n",
    "        (\"text\", TfidfVectorizer(), TEXT_FEATURES),\n",
    "        \n",
    "    ])),\n",
    "    \n",
    "    (\"regressor\", lightgbm.LGBMRegressor(\n",
    "        n_estimators=3000,\n",
    "        objective=\"regression\",\n",
    "        num_leaves=50,\n",
    "        max_depth=10,\n",
    "        min_child_samples=60,\n",
    "        learning_rate=0.09,\n",
    "        colsample_bytree=0.6,\n",
    "        verbosity=-1,\n",
    "        extra_trees=True,\n",
    "        metric=\"mape\"\n",
    "    )),\n",
    "])"
   ]
  },
  {
   "cell_type": "code",
   "execution_count": 40,
   "metadata": {},
   "outputs": [
    {
     "data": {
      "text/html": [
       "<div>\n",
       "<style scoped>\n",
       "    .dataframe tbody tr th:only-of-type {\n",
       "        vertical-align: middle;\n",
       "    }\n",
       "\n",
       "    .dataframe tbody tr th {\n",
       "        vertical-align: top;\n",
       "    }\n",
       "\n",
       "    .dataframe thead th {\n",
       "        text-align: right;\n",
       "    }\n",
       "</style>\n",
       "<table border=\"1\" class=\"dataframe\">\n",
       "  <thead>\n",
       "    <tr style=\"text-align: right;\">\n",
       "      <th></th>\n",
       "      <th>art_no</th>\n",
       "      <th>art_name</th>\n",
       "      <th>hierarchy_level1_id</th>\n",
       "      <th>hierarchy_level1_desc</th>\n",
       "      <th>hierarchy_level2_id</th>\n",
       "      <th>hierarchy_level2_desc</th>\n",
       "      <th>hierarchy_level3_id</th>\n",
       "      <th>hierarchy_level3_desc</th>\n",
       "      <th>date_of_day</th>\n",
       "      <th>store_count</th>\n",
       "      <th>sold_qty_units</th>\n",
       "      <th>total_cust_count</th>\n",
       "      <th>low_stock_warning</th>\n",
       "      <th>unit_price_weekly</th>\n",
       "      <th>unit_discount_weekly</th>\n",
       "    </tr>\n",
       "  </thead>\n",
       "  <tbody>\n",
       "    <tr>\n",
       "      <th>2614</th>\n",
       "      <td>22</td>\n",
       "      <td>500g Pasta Rigate</td>\n",
       "      <td>100</td>\n",
       "      <td>Processed_Food</td>\n",
       "      <td>2</td>\n",
       "      <td>Extras</td>\n",
       "      <td>1</td>\n",
       "      <td>Dough</td>\n",
       "      <td>2020-02-20</td>\n",
       "      <td>35</td>\n",
       "      <td>261.0</td>\n",
       "      <td>187</td>\n",
       "      <td>0</td>\n",
       "      <td>2.92</td>\n",
       "      <td>-0.07</td>\n",
       "    </tr>\n",
       "    <tr>\n",
       "      <th>2615</th>\n",
       "      <td>22</td>\n",
       "      <td>500g Pasta Rigate</td>\n",
       "      <td>100</td>\n",
       "      <td>Processed_Food</td>\n",
       "      <td>2</td>\n",
       "      <td>Extras</td>\n",
       "      <td>1</td>\n",
       "      <td>Dough</td>\n",
       "      <td>2020-10-08</td>\n",
       "      <td>34</td>\n",
       "      <td>230.0</td>\n",
       "      <td>166</td>\n",
       "      <td>0</td>\n",
       "      <td>2.95</td>\n",
       "      <td>-0.04</td>\n",
       "    </tr>\n",
       "    <tr>\n",
       "      <th>2616</th>\n",
       "      <td>22</td>\n",
       "      <td>500g Pasta Rigate</td>\n",
       "      <td>100</td>\n",
       "      <td>Processed_Food</td>\n",
       "      <td>2</td>\n",
       "      <td>Extras</td>\n",
       "      <td>1</td>\n",
       "      <td>Dough</td>\n",
       "      <td>2020-12-17</td>\n",
       "      <td>37</td>\n",
       "      <td>918.0</td>\n",
       "      <td>706</td>\n",
       "      <td>0</td>\n",
       "      <td>2.98</td>\n",
       "      <td>-0.01</td>\n",
       "    </tr>\n",
       "    <tr>\n",
       "      <th>2617</th>\n",
       "      <td>22</td>\n",
       "      <td>500g Pasta Rigate</td>\n",
       "      <td>100</td>\n",
       "      <td>Processed_Food</td>\n",
       "      <td>2</td>\n",
       "      <td>Extras</td>\n",
       "      <td>1</td>\n",
       "      <td>Dough</td>\n",
       "      <td>2019-09-26</td>\n",
       "      <td>31</td>\n",
       "      <td>157.0</td>\n",
       "      <td>120</td>\n",
       "      <td>0</td>\n",
       "      <td>2.76</td>\n",
       "      <td>-0.03</td>\n",
       "    </tr>\n",
       "    <tr>\n",
       "      <th>2618</th>\n",
       "      <td>22</td>\n",
       "      <td>500g Pasta Rigate</td>\n",
       "      <td>100</td>\n",
       "      <td>Processed_Food</td>\n",
       "      <td>2</td>\n",
       "      <td>Extras</td>\n",
       "      <td>1</td>\n",
       "      <td>Dough</td>\n",
       "      <td>2019-10-03</td>\n",
       "      <td>26</td>\n",
       "      <td>114.0</td>\n",
       "      <td>87</td>\n",
       "      <td>0</td>\n",
       "      <td>2.79</td>\n",
       "      <td>-0.00</td>\n",
       "    </tr>\n",
       "  </tbody>\n",
       "</table>\n",
       "</div>"
      ],
      "text/plain": [
       "      art_no           art_name  hierarchy_level1_id hierarchy_level1_desc  \\\n",
       "2614      22  500g Pasta Rigate                  100        Processed_Food   \n",
       "2615      22  500g Pasta Rigate                  100        Processed_Food   \n",
       "2616      22  500g Pasta Rigate                  100        Processed_Food   \n",
       "2617      22  500g Pasta Rigate                  100        Processed_Food   \n",
       "2618      22  500g Pasta Rigate                  100        Processed_Food   \n",
       "\n",
       "      hierarchy_level2_id hierarchy_level2_desc  hierarchy_level3_id  \\\n",
       "2614                    2                Extras                    1   \n",
       "2615                    2                Extras                    1   \n",
       "2616                    2                Extras                    1   \n",
       "2617                    2                Extras                    1   \n",
       "2618                    2                Extras                    1   \n",
       "\n",
       "     hierarchy_level3_desc date_of_day  store_count  sold_qty_units  \\\n",
       "2614                 Dough  2020-02-20           35           261.0   \n",
       "2615                 Dough  2020-10-08           34           230.0   \n",
       "2616                 Dough  2020-12-17           37           918.0   \n",
       "2617                 Dough  2019-09-26           31           157.0   \n",
       "2618                 Dough  2019-10-03           26           114.0   \n",
       "\n",
       "      total_cust_count  low_stock_warning  unit_price_weekly  \\\n",
       "2614               187                  0               2.92   \n",
       "2615               166                  0               2.95   \n",
       "2616               706                  0               2.98   \n",
       "2617               120                  0               2.76   \n",
       "2618                87                  0               2.79   \n",
       "\n",
       "      unit_discount_weekly  \n",
       "2614                 -0.07  \n",
       "2615                 -0.04  \n",
       "2616                 -0.01  \n",
       "2617                 -0.03  \n",
       "2618                 -0.00  "
      ]
     },
     "execution_count": 40,
     "metadata": {},
     "output_type": "execute_result"
    }
   ],
   "source": [
    "data_sales = pd.read_csv('../data/take_home_final_data.csv')\n",
    "data_sales['date_of_day'] = pd.to_datetime(data_sales['date_of_day'], format = \"%Y-%m-%d\")\n",
    "data_sales.tail(5)"
   ]
  },
  {
   "cell_type": "markdown",
   "metadata": {},
   "source": [
    "##### Training and Validation split\n",
    "* Training data - From *2019-02-28* to *2021-02-04* i.e 101 weeks\n",
    "* Validation data - From *2021-02-11* to *2021-02-25* i.e 3 weeks "
   ]
  },
  {
   "cell_type": "code",
   "execution_count": 41,
   "metadata": {},
   "outputs": [
    {
     "name": "stdout",
     "output_type": "stream",
     "text": [
      "(2544, 15)\n",
      "(75, 15)\n"
     ]
    }
   ],
   "source": [
    "date_start = data_sales.date_of_day.max() - datetime.timedelta(21)\n",
    "\n",
    "df_train = data_sales[data_sales.date_of_day <= date_start]\n",
    "df_validation = data_sales[data_sales.date_of_day > date_start]\n",
    "\n",
    "print(df_train.shape)\n",
    "print(df_validation.shape)"
   ]
  },
  {
   "cell_type": "markdown",
   "metadata": {},
   "source": [
    "##### Performance Metric\n",
    "* We will use MAE (Mean Absolute Error) as the performance metric because of the presence of outliers in the sales of products. As the definition says MAE is the absolute difference between the actual value and predicted value it is more robust to the effects of outliers.\n",
    " \n",
    "* The definition of R-squared is fairly straight-forward it is the percentage of the response variable variation that is explained by a model.\n",
    "\n",
    "  R-squared = Explained variation / Total variation\n",
    "\n",
    "  R-squared is always between 0 and 100%:\n",
    "\n",
    "  0% indicates that the model explains none of the variability of the response data around its mean.\n",
    "  100% indicates that the model explains all the variability of the response data around its mean.\n",
    "  In general the higher the R-squared, the better the model fits our data."
   ]
  },
  {
   "cell_type": "markdown",
   "metadata": {},
   "source": [
    "##### Baseline \n",
    "An important goal in retail is to be able to forecast article demand as this enables us to plan our business. This can be done using a basic model that considers the average demand over some weeks in the past."
   ]
  },
  {
   "cell_type": "code",
   "execution_count": 42,
   "metadata": {},
   "outputs": [
    {
     "data": {
      "text/plain": [
       "168.04400000000004"
      ]
     },
     "execution_count": 42,
     "metadata": {},
     "output_type": "execute_result"
    }
   ],
   "source": [
    "mean_absolute_error(df_validation.sold_qty_units, \n",
    "                    [df_validation[\"sold_qty_units\"].rolling(10).mean().iloc[-1]] * len(df_validation))"
   ]
  },
  {
   "cell_type": "code",
   "execution_count": 48,
   "metadata": {},
   "outputs": [
    {
     "name": "stdout",
     "output_type": "stream",
     "text": [
      "r2 score for the model fit 0.81\n"
     ]
    }
   ],
   "source": [
    "model.fit(df_train, df_train.sold_qty_units, regressor__sample_weight=estimate_sample_weights(df_train, 5))\n",
    "dump(model, '../model/model')\n",
    "y_train = np.clip(model.predict(df_train), 0, np.inf).astype(int)\n",
    "r2 = r2_score(df_train.sold_qty_units, y_train)\n",
    "print('r2 score for the model fit', round(r2, 2))"
   ]
  },
  {
   "cell_type": "code",
   "execution_count": 49,
   "metadata": {},
   "outputs": [
    {
     "name": "stdout",
     "output_type": "stream",
     "text": [
      "MAE of the model trained =  22.83\n",
      "RMSE of the model trained =  60.95\n",
      "r2 score for model prediction 0.93\n"
     ]
    }
   ],
   "source": [
    "y_predicted = np.clip(model.predict(df_validation), 0, np.inf).astype(int)\n",
    "error_mae = round(mean_absolute_error(df_validation.sold_qty_units, y_predicted), 2)\n",
    "error_rmse = round(rmse(df_validation.sold_qty_units, y_predicted), 2)\n",
    "r2 = r2_score(df_validation.sold_qty_units, y_predicted)\n",
    "print('MAE of the model trained = ', error_mae)\n",
    "print('RMSE of the model trained = ', error_rmse)\n",
    "print('r2 score for model prediction', round(r2, 2))"
   ]
  },
  {
   "cell_type": "code",
   "execution_count": 37,
   "metadata": {},
   "outputs": [],
   "source": [
    "df_test_results = pd.DataFrame({\n",
    "    \"art_no\": df_validation.art_no,\n",
    "    \"date_of_day\": df_validation.date_of_day,\n",
    "    \"sold_qty_units\": y_predicted,\n",
    "})"
   ]
  },
  {
   "cell_type": "markdown",
   "metadata": {},
   "source": [
    "##### Prediction vs Actual Data Plot\n",
    "From the graph below we can observe that the red line indicates the predicted samples and the blue indicates the actual data. It can be seemingly observed that the predicted values are closely aligned with actual data indicating the efficiency of the model in forecasting the sales of the product."
   ]
  },
  {
   "cell_type": "code",
   "execution_count": 38,
   "metadata": {},
   "outputs": [
    {
     "data": {
      "text/plain": [
       "<matplotlib.legend.Legend at 0x1fb2a06d190>"
      ]
     },
     "execution_count": 38,
     "metadata": {},
     "output_type": "execute_result"
    },
    {
     "data": {
      "image/png": "[encoded data removed]",
      "text/plain": [
       "<Figure size 1800x432 with 1 Axes>"
      ]
     },
     "metadata": {
      "needs_background": "light"
     },
     "output_type": "display_data"
    }
   ],
   "source": [
    "plt.figure(figsize=(25,6))\n",
    "axis = data_sales.groupby([\"date_of_day\"]).sold_qty_units.sum().plot()\n",
    "df_test_results.groupby([\"date_of_day\"]).sold_qty_units.sum().plot(ax=axis, color=\"red\")\n",
    "plt.legend(['Train data', 'Predicted data'])"
   ]
  },
  {
   "cell_type": "code",
   "execution_count": null,
   "metadata": {},
   "outputs": [],
   "source": []
  }
 ],
 "metadata": {
  "interpreter": {
   "hash": "b3ba2566441a7c06988d0923437866b63cedc61552a5af99d1f4fb67d367b25f"
  },
  "kernelspec": {
   "display_name": "Python 3.8.3 64-bit ('base': conda)",
   "language": "python",
   "name": "python3"
  },
  "language_info": {
   "codemirror_mode": {
    "name": "ipython",
    "version": 3
   },
   "file_extension": ".py",
   "mimetype": "text/x-python",
   "name": "python",
   "nbconvert_exporter": "python",
   "pygments_lexer": "ipython3",
   "version": "3.8.3"
  },
  "orig_nbformat": 4
 },
 "nbformat": 4,
 "nbformat_minor": 2
}
