{
 "cells": [
  {
   "cell_type": "code",
   "execution_count": 1,
   "metadata": {},
   "outputs": [],
   "source": [
    "import os\n",
    "import joblib\n",
    "import utils_model\n",
    "import pandas as pd\n",
    "from lightgbm import LGBMClassifier\n",
    "from imblearn.over_sampling import SMOTE\n",
    "from sklearn.preprocessing import OrdinalEncoder\n",
    "from sklearn.model_selection import GridSearchCV\n",
    "\n",
    "import warnings\n",
    "warnings.filterwarnings(\"ignore\")"
   ]
  },
  {
   "cell_type": "markdown",
   "metadata": {},
   "source": [
    "### Data Loading"
   ]
  },
  {
   "cell_type": "code",
   "execution_count": 2,
   "metadata": {},
   "outputs": [
    {
     "data": {
      "text/html": [
       "<div>\n",
       "<style scoped>\n",
       "    .dataframe tbody tr th:only-of-type {\n",
       "        vertical-align: middle;\n",
       "    }\n",
       "\n",
       "    .dataframe tbody tr th {\n",
       "        vertical-align: top;\n",
       "    }\n",
       "\n",
       "    .dataframe thead th {\n",
       "        text-align: right;\n",
       "    }\n",
       "</style>\n",
       "<table border=\"1\" class=\"dataframe\">\n",
       "  <thead>\n",
       "    <tr style=\"text-align: right;\">\n",
       "      <th></th>\n",
       "      <th>product_tier</th>\n",
       "      <th>make_name</th>\n",
       "      <th>price</th>\n",
       "      <th>first_zip_digit</th>\n",
       "      <th>first_registration_year</th>\n",
       "      <th>created_date</th>\n",
       "      <th>deleted_date</th>\n",
       "      <th>search_views</th>\n",
       "      <th>detail_views</th>\n",
       "      <th>stock_days</th>\n",
       "      <th>ctr</th>\n",
       "      <th>cal_ctr</th>\n",
       "    </tr>\n",
       "    <tr>\n",
       "      <th>article_id</th>\n",
       "      <th></th>\n",
       "      <th></th>\n",
       "      <th></th>\n",
       "      <th></th>\n",
       "      <th></th>\n",
       "      <th></th>\n",
       "      <th></th>\n",
       "      <th></th>\n",
       "      <th></th>\n",
       "      <th></th>\n",
       "      <th></th>\n",
       "      <th></th>\n",
       "    </tr>\n",
       "  </thead>\n",
       "  <tbody>\n",
       "    <tr>\n",
       "      <th>348704581</th>\n",
       "      <td>Basic</td>\n",
       "      <td>Lexus</td>\n",
       "      <td>15740</td>\n",
       "      <td>8</td>\n",
       "      <td>2014</td>\n",
       "      <td>12.07.18</td>\n",
       "      <td>19.10.18</td>\n",
       "      <td>6895.0</td>\n",
       "      <td>230.0</td>\n",
       "      <td>99</td>\n",
       "      <td>0.03335750543872371</td>\n",
       "      <td>0.03336</td>\n",
       "    </tr>\n",
       "    <tr>\n",
       "      <th>359231940</th>\n",
       "      <td>Basic</td>\n",
       "      <td>Hyundai</td>\n",
       "      <td>2950</td>\n",
       "      <td>6</td>\n",
       "      <td>2006</td>\n",
       "      <td>28.09.18</td>\n",
       "      <td>23.10.18</td>\n",
       "      <td>1175.0</td>\n",
       "      <td>16.0</td>\n",
       "      <td>25</td>\n",
       "      <td>0.012936170212765956</td>\n",
       "      <td>0.01362</td>\n",
       "    </tr>\n",
       "    <tr>\n",
       "      <th>362425932</th>\n",
       "      <td>Basic</td>\n",
       "      <td>Volkswagen</td>\n",
       "      <td>7850</td>\n",
       "      <td>8</td>\n",
       "      <td>2014</td>\n",
       "      <td>04.11.18</td>\n",
       "      <td>21.11.18</td>\n",
       "      <td>448.0</td>\n",
       "      <td>21.0</td>\n",
       "      <td>16</td>\n",
       "      <td>0.046875</td>\n",
       "      <td>0.04688</td>\n",
       "    </tr>\n",
       "    <tr>\n",
       "      <th>357164227</th>\n",
       "      <td>Basic</td>\n",
       "      <td>Toyota</td>\n",
       "      <td>13945</td>\n",
       "      <td>5</td>\n",
       "      <td>2011</td>\n",
       "      <td>04.09.18</td>\n",
       "      <td>02.10.18</td>\n",
       "      <td>1617.0</td>\n",
       "      <td>29.0</td>\n",
       "      <td>28</td>\n",
       "      <td>0.017934446505875078</td>\n",
       "      <td>0.01793</td>\n",
       "    </tr>\n",
       "    <tr>\n",
       "      <th>353639932</th>\n",
       "      <td>Basic</td>\n",
       "      <td>Volkswagen</td>\n",
       "      <td>38800</td>\n",
       "      <td>7</td>\n",
       "      <td>2018</td>\n",
       "      <td>08.08.18</td>\n",
       "      <td>09.08.18</td>\n",
       "      <td>55.0</td>\n",
       "      <td>2.0</td>\n",
       "      <td>1</td>\n",
       "      <td>0.03454545454545454</td>\n",
       "      <td>0.03636</td>\n",
       "    </tr>\n",
       "  </tbody>\n",
       "</table>\n",
       "</div>"
      ],
      "text/plain": [
       "           product_tier   make_name  price  first_zip_digit  \\\n",
       "article_id                                                    \n",
       "348704581         Basic       Lexus  15740                8   \n",
       "359231940         Basic     Hyundai   2950                6   \n",
       "362425932         Basic  Volkswagen   7850                8   \n",
       "357164227         Basic      Toyota  13945                5   \n",
       "353639932         Basic  Volkswagen  38800                7   \n",
       "\n",
       "            first_registration_year created_date deleted_date  search_views  \\\n",
       "article_id                                                                    \n",
       "348704581                      2014     12.07.18     19.10.18        6895.0   \n",
       "359231940                      2006     28.09.18     23.10.18        1175.0   \n",
       "362425932                      2014     04.11.18     21.11.18         448.0   \n",
       "357164227                      2011     04.09.18     02.10.18        1617.0   \n",
       "353639932                      2018     08.08.18     09.08.18          55.0   \n",
       "\n",
       "            detail_views  stock_days                   ctr  cal_ctr  \n",
       "article_id                                                           \n",
       "348704581          230.0          99   0.03335750543872371  0.03336  \n",
       "359231940           16.0          25  0.012936170212765956  0.01362  \n",
       "362425932           21.0          16              0.046875  0.04688  \n",
       "357164227           29.0          28  0.017934446505875078  0.01793  \n",
       "353639932            2.0           1   0.03454545454545454  0.03636  "
      ]
     },
     "execution_count": 2,
     "metadata": {},
     "output_type": "execute_result"
    }
   ],
   "source": [
    "data_path = os.path.join('..', 'data', 'AS24_prepro_product_tier.csv')\n",
    "data_case_study = pd.read_csv(data_path)\n",
    "data_case_study.dropna(subset=['detail_views', 'search_views', 'cal_ctr'], inplace=True)\n",
    "data_case_study = data_case_study.set_index('article_id')\n",
    "data_case_study.tail()"
   ]
  },
  {
   "cell_type": "code",
   "execution_count": 3,
   "metadata": {},
   "outputs": [
    {
     "data": {
      "text/plain": [
       "78297"
      ]
     },
     "execution_count": 3,
     "metadata": {},
     "output_type": "execute_result"
    }
   ],
   "source": [
    "len(data_case_study)"
   ]
  },
  {
   "cell_type": "markdown",
   "metadata": {},
   "source": [
    "### Feature Encoding"
   ]
  },
  {
   "cell_type": "code",
   "execution_count": 35,
   "metadata": {},
   "outputs": [],
   "source": [
    "ord_enc = OrdinalEncoder()\n",
    "data_case_study[\"make_name\"] = ord_enc.fit_transform(data_case_study[[\"make_name\"]])"
   ]
  },
  {
   "cell_type": "markdown",
   "metadata": {},
   "source": [
    "### Feature and Target selection"
   ]
  },
  {
   "cell_type": "code",
   "execution_count": 36,
   "metadata": {},
   "outputs": [],
   "source": [
    "feature_cols = ['make_name', 'first_registration_year', 'price', 'search_views', \n",
    "                'detail_views', 'stock_days', 'cal_ctr']\n",
    "target_col = ['product_tier']\n",
    "X_data = data_case_study[feature_cols]\n",
    "Y_data = data_case_study[target_col]"
   ]
  },
  {
   "cell_type": "markdown",
   "metadata": {},
   "source": [
    "### Train and Test split"
   ]
  },
  {
   "cell_type": "code",
   "execution_count": 37,
   "metadata": {},
   "outputs": [],
   "source": [
    "X_train, X_test, y_train, y_test = utils_model.split_train_test(X_data, Y_data)"
   ]
  },
  {
   "cell_type": "markdown",
   "metadata": {},
   "source": [
    "### Implementation - Grid Search"
   ]
  },
  {
   "cell_type": "code",
   "execution_count": 25,
   "metadata": {},
   "outputs": [],
   "source": [
    "param_grid = {\n",
    "    'objective':['multiclass'],\n",
    "    'num_class':[3],\n",
    "    'n_estimators': list(range(200, 800, 200)),\n",
    "    'boosting_type': ['gbdt', 'rf'],\n",
    "    'num_leaves': list(range(10, 100, 20)),\n",
    "    'learning_rate': [0.01, 0.1],\n",
    "    'subsample_for_bin': [20000, 30000],\n",
    "    'min_child_samples': [20, 50],\n",
    "    'colsample_bytree': [0.6, 0.8],\n",
    "    \"max_depth\": [5, 10],\n",
    "    \"metric\":['softmax']\n",
    "}"
   ]
  },
  {
   "cell_type": "code",
   "execution_count": 28,
   "metadata": {},
   "outputs": [
    {
     "name": "stdout",
     "output_type": "stream",
     "text": [
      "Fitting 5 folds for each of 960 candidates, totalling 4800 fits\n",
      "CPU times: total: 15h 50min 27s\n",
      "Wall time: 1h 22min 51s\n"
     ]
    },
    {
     "data": {
      "text/plain": [
       "{'boosting_type': 'gbdt',\n",
       " 'colsample_bytree': 0.6,\n",
       " 'learning_rate': 0.1,\n",
       " 'max_depth': 5,\n",
       " 'metric': 'softmax',\n",
       " 'min_child_samples': 50,\n",
       " 'n_estimators': 400,\n",
       " 'num_class': 3,\n",
       " 'num_leaves': 10,\n",
       " 'objective': 'multiclass',\n",
       " 'subsample_for_bin': 30000}"
      ]
     },
     "execution_count": 28,
     "metadata": {},
     "output_type": "execute_result"
    }
   ],
   "source": [
    "%%time\n",
    "lgbm_classifier = LGBMClassifier()\n",
    "lgbm_cv = GridSearchCV(lgbm_classifier, param_grid, cv=5, verbose=1) \n",
    "lgbm_cv.fit(X_train.values, y_train.product_tier.values) \n",
    "lgbm_cv.best_params_ "
   ]
  },
  {
   "cell_type": "markdown",
   "metadata": {},
   "source": [
    "### Defining LightGBM model with fine-tune hyperparamters"
   ]
  },
  {
   "cell_type": "code",
   "execution_count": 29,
   "metadata": {},
   "outputs": [],
   "source": [
    "lgbm_tuned = LGBMClassifier(boosting_type = 'gbdt',\n",
    "                            n_estimators = 400,\n",
    "                            num_class = 3,\n",
    "                            colsample_bytree = 0.6,\n",
    "                            learning_rate = 0.1,\n",
    "                            max_depth = 5,\n",
    "                            metric = 'softmax',\n",
    "                            min_child_samples = 50,\n",
    "                            num_leaves = 10,\n",
    "                            subsample_for_bin = 30000) "
   ]
  },
  {
   "cell_type": "markdown",
   "metadata": {},
   "source": [
    "### Model Training"
   ]
  },
  {
   "cell_type": "code",
   "execution_count": 30,
   "metadata": {},
   "outputs": [
    {
     "data": {
      "text/plain": [
       "['..\\\\trained_models\\\\lgbm_classifier.pkl']"
      ]
     },
     "execution_count": 30,
     "metadata": {},
     "output_type": "execute_result"
    }
   ],
   "source": [
    "lgbm_tuned.fit(X_train.values, y_train.product_tier.values)\n",
    "joblib.dump(lgbm_tuned, os.path.join('..', 'trained_models', 'lgbm_classifier.pkl'))"
   ]
  },
  {
   "cell_type": "markdown",
   "metadata": {},
   "source": [
    "### Model Prediction"
   ]
  },
  {
   "cell_type": "code",
   "execution_count": 31,
   "metadata": {},
   "outputs": [],
   "source": [
    "gbm_classifier = joblib.load(os.path.join('..', 'trained_models', 'lgbm_classifier.pkl'))\n",
    "y_test_pred = gbm_classifier.predict(X_test.values)"
   ]
  },
  {
   "cell_type": "markdown",
   "metadata": {},
   "source": [
    "### Model Performance"
   ]
  },
  {
   "cell_type": "code",
   "execution_count": 32,
   "metadata": {},
   "outputs": [
    {
     "name": "stdout",
     "output_type": "stream",
     "text": [
      "Accuracy of the model = 97.2\n"
     ]
    },
    {
     "data": {
      "image/png": "[encoded data removed]",
      "text/plain": [
       "<Figure size 576x432 with 2 Axes>"
      ]
     },
     "metadata": {},
     "output_type": "display_data"
    },
    {
     "data": {
      "text/html": [
       "<div>\n",
       "<style scoped>\n",
       "    .dataframe tbody tr th:only-of-type {\n",
       "        vertical-align: middle;\n",
       "    }\n",
       "\n",
       "    .dataframe tbody tr th {\n",
       "        vertical-align: top;\n",
       "    }\n",
       "\n",
       "    .dataframe thead th {\n",
       "        text-align: right;\n",
       "    }\n",
       "</style>\n",
       "<table border=\"1\" class=\"dataframe\">\n",
       "  <thead>\n",
       "    <tr style=\"text-align: right;\">\n",
       "      <th></th>\n",
       "      <th>precision</th>\n",
       "      <th>recall</th>\n",
       "      <th>f1-score</th>\n",
       "      <th>support</th>\n",
       "    </tr>\n",
       "  </thead>\n",
       "  <tbody>\n",
       "    <tr>\n",
       "      <th>Basic</th>\n",
       "      <td>0.99</td>\n",
       "      <td>0.98</td>\n",
       "      <td>0.99</td>\n",
       "      <td>30656</td>\n",
       "    </tr>\n",
       "    <tr>\n",
       "      <th>Plus</th>\n",
       "      <td>0.00</td>\n",
       "      <td>0.25</td>\n",
       "      <td>0.01</td>\n",
       "      <td>4</td>\n",
       "    </tr>\n",
       "    <tr>\n",
       "      <th>Premium</th>\n",
       "      <td>0.51</td>\n",
       "      <td>0.70</td>\n",
       "      <td>0.59</td>\n",
       "      <td>665</td>\n",
       "    </tr>\n",
       "    <tr>\n",
       "      <th>accuracy</th>\n",
       "      <td>0.97</td>\n",
       "      <td>0.97</td>\n",
       "      <td>0.97</td>\n",
       "      <td>0</td>\n",
       "    </tr>\n",
       "    <tr>\n",
       "      <th>macro avg</th>\n",
       "      <td>0.50</td>\n",
       "      <td>0.64</td>\n",
       "      <td>0.53</td>\n",
       "      <td>31325</td>\n",
       "    </tr>\n",
       "    <tr>\n",
       "      <th>weighted avg</th>\n",
       "      <td>0.98</td>\n",
       "      <td>0.97</td>\n",
       "      <td>0.98</td>\n",
       "      <td>31325</td>\n",
       "    </tr>\n",
       "  </tbody>\n",
       "</table>\n",
       "</div>"
      ],
      "text/plain": [
       "              precision  recall  f1-score  support\n",
       "Basic              0.99    0.98      0.99    30656\n",
       "Plus               0.00    0.25      0.01        4\n",
       "Premium            0.51    0.70      0.59      665\n",
       "accuracy           0.97    0.97      0.97        0\n",
       "macro avg          0.50    0.64      0.53    31325\n",
       "weighted avg       0.98    0.97      0.98    31325"
      ]
     },
     "execution_count": 32,
     "metadata": {},
     "output_type": "execute_result"
    }
   ],
   "source": [
    "utils_model.generate_performance_metrics(y_test.product_tier.values, y_test_pred)"
   ]
  },
  {
   "cell_type": "markdown",
   "metadata": {},
   "source": [
    "### Performance Explainability\n",
    "* As we noticed a high imbalance in the category of product_tier the results are biased due to it. We can see that the accuracy of model is close to 97%  but the precision and recall suffers by a large margin.\n",
    "\n",
    "* We can simply say that, although the model is trained for a multiclass classification problem but it performs like a binary classifier. Where it predicts the product_tier Basic with the highest accuracy but cannot predict the other groups with same efficiency.\n",
    "\n",
    "### What could be done\n",
    "* Use SMOTE method to oversample the minority class and balance the dataset. Retrain the model with this modified dataset to assess the actual performance of the developed model. This was feasible to do in the given time frame and it has been implemented below.\n",
    "\n",
    "* Develop 2 models i.e model-A as a binary classifier that initially splits the prediction into the product_tier Basic and Other (Plus and Premium). Then model-B as another binary classifier for the Other group.\n",
    "This will not be feasible for larger number of groups.\n",
    "\n"
   ]
  },
  {
   "cell_type": "markdown",
   "metadata": {},
   "source": [
    "### Training, Prediction and Performace analysis over Balanced Dataset using SMOTE"
   ]
  },
  {
   "cell_type": "code",
   "execution_count": 38,
   "metadata": {},
   "outputs": [],
   "source": [
    "oversample = SMOTE()\n",
    "sm = SMOTE(random_state=42)\n",
    "X_data_bal, Y_data_bal = sm.fit_resample(X_data, Y_data)"
   ]
  },
  {
   "cell_type": "code",
   "execution_count": 39,
   "metadata": {},
   "outputs": [],
   "source": [
    "X_train_bal, X_test_bal, y_train_bal, y_test_bal = utils_model.split_train_test(X_data_bal, \n",
    "                                                                                Y_data_bal)"
   ]
  },
  {
   "cell_type": "code",
   "execution_count": 40,
   "metadata": {},
   "outputs": [
    {
     "data": {
      "text/plain": [
       "['..\\\\trained_models\\\\lgbm_balanced_classifier.pkl']"
      ]
     },
     "execution_count": 40,
     "metadata": {},
     "output_type": "execute_result"
    }
   ],
   "source": [
    "lgbm_tuned.fit(X_train_bal.values, y_train_bal.product_tier.values)\n",
    "joblib.dump(lgbm_tuned, os.path.join('..', 'trained_models', 'lgbm_balanced_classifier.pkl'))"
   ]
  },
  {
   "cell_type": "code",
   "execution_count": 43,
   "metadata": {},
   "outputs": [],
   "source": [
    "balanced_gbm_classifier = joblib.load(os.path.join('..', 'trained_models', \n",
    "                                                  'lgbm_balanced_classifier.pkl'))\n",
    "y_test_pred_bal = balanced_gbm_classifier.predict(X_test_bal.values)"
   ]
  },
  {
   "cell_type": "code",
   "execution_count": 44,
   "metadata": {},
   "outputs": [
    {
     "name": "stdout",
     "output_type": "stream",
     "text": [
      "Accuracy of the model = 89.6\n"
     ]
    },
    {
     "data": {
      "image/png": "[encoded data removed]",
      "text/plain": [
       "<Figure size 576x432 with 2 Axes>"
      ]
     },
     "metadata": {},
     "output_type": "display_data"
    },
    {
     "data": {
      "text/html": [
       "<div>\n",
       "<style scoped>\n",
       "    .dataframe tbody tr th:only-of-type {\n",
       "        vertical-align: middle;\n",
       "    }\n",
       "\n",
       "    .dataframe tbody tr th {\n",
       "        vertical-align: top;\n",
       "    }\n",
       "\n",
       "    .dataframe thead th {\n",
       "        text-align: right;\n",
       "    }\n",
       "</style>\n",
       "<table border=\"1\" class=\"dataframe\">\n",
       "  <thead>\n",
       "    <tr style=\"text-align: right;\">\n",
       "      <th></th>\n",
       "      <th>precision</th>\n",
       "      <th>recall</th>\n",
       "      <th>f1-score</th>\n",
       "      <th>support</th>\n",
       "    </tr>\n",
       "  </thead>\n",
       "  <tbody>\n",
       "    <tr>\n",
       "      <th>Basic</th>\n",
       "      <td>0.96</td>\n",
       "      <td>0.95</td>\n",
       "      <td>0.95</td>\n",
       "      <td>30351</td>\n",
       "    </tr>\n",
       "    <tr>\n",
       "      <th>Plus</th>\n",
       "      <td>0.90</td>\n",
       "      <td>0.85</td>\n",
       "      <td>0.87</td>\n",
       "      <td>31821</td>\n",
       "    </tr>\n",
       "    <tr>\n",
       "      <th>Premium</th>\n",
       "      <td>0.83</td>\n",
       "      <td>0.90</td>\n",
       "      <td>0.86</td>\n",
       "      <td>28305</td>\n",
       "    </tr>\n",
       "    <tr>\n",
       "      <th>accuracy</th>\n",
       "      <td>0.90</td>\n",
       "      <td>0.90</td>\n",
       "      <td>0.90</td>\n",
       "      <td>0</td>\n",
       "    </tr>\n",
       "    <tr>\n",
       "      <th>macro avg</th>\n",
       "      <td>0.90</td>\n",
       "      <td>0.90</td>\n",
       "      <td>0.90</td>\n",
       "      <td>90477</td>\n",
       "    </tr>\n",
       "    <tr>\n",
       "      <th>weighted avg</th>\n",
       "      <td>0.90</td>\n",
       "      <td>0.90</td>\n",
       "      <td>0.90</td>\n",
       "      <td>90477</td>\n",
       "    </tr>\n",
       "  </tbody>\n",
       "</table>\n",
       "</div>"
      ],
      "text/plain": [
       "              precision  recall  f1-score  support\n",
       "Basic              0.96    0.95      0.95    30351\n",
       "Plus               0.90    0.85      0.87    31821\n",
       "Premium            0.83    0.90      0.86    28305\n",
       "accuracy           0.90    0.90      0.90        0\n",
       "macro avg          0.90    0.90      0.90    90477\n",
       "weighted avg       0.90    0.90      0.90    90477"
      ]
     },
     "execution_count": 44,
     "metadata": {},
     "output_type": "execute_result"
    }
   ],
   "source": [
    "utils_model.generate_performance_metrics(y_test_bal.product_tier.values, y_test_pred_bal)"
   ]
  },
  {
   "cell_type": "code",
   "execution_count": 18,
   "metadata": {},
   "outputs": [],
   "source": []
  },
  {
   "cell_type": "code",
   "execution_count": null,
   "metadata": {},
   "outputs": [],
   "source": []
  }
 ],
 "metadata": {
  "interpreter": {
   "hash": "39fd706e237b4754acae47779fe134d4aa2cfe7d2386cd9fd7cdd86799fc6ead"
  },
  "kernelspec": {
   "display_name": "Python 3.8.13 ('as24_interview')",
   "language": "python",
   "name": "python3"
  },
  "language_info": {
   "codemirror_mode": {
    "name": "ipython",
    "version": 3
   },
   "file_extension": ".py",
   "mimetype": "text/x-python",
   "name": "python",
   "nbconvert_exporter": "python",
   "pygments_lexer": "ipython3",
   "version": "3.8.13"
  },
  "orig_nbformat": 4
 },
 "nbformat": 4,
 "nbformat_minor": 2
}
